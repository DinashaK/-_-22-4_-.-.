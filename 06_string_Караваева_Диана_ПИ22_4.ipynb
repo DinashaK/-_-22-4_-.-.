{
  "cells": [
    {
      "cell_type": "markdown",
      "metadata": {
        "id": "t-evd_AkM3ru"
      },
      "source": [
        "# Работа со строковыми значениями"
      ]
    },
    {
      "cell_type": "markdown",
      "metadata": {
        "id": "tH6qBUwaM3ry"
      },
      "source": [
        "__Автор задач: Блохин Н.В. (NVBlokhin@fa.ru)__\n",
        "\n",
        "Материалы:\n",
        "* Макрушин С.В. Лекция \"Работа со строковыми значениям\"\n",
        "* https://pyformat.info/\n",
        "* https://docs.python.org/3/library/re.html\n",
        "    * https://docs.python.org/3/library/re.html#flags\n",
        "    * https://docs.python.org/3/library/re.html#functions\n",
        "* https://pythonru.com/primery/primery-primeneniya-regulyarnyh-vyrazheniy-v-python\n",
        "* https://kanoki.org/2019/11/12/how-to-use-regex-in-pandas/\n",
        "* https://realpython.com/nltk-nlp-python/"
      ]
    },
    {
      "cell_type": "markdown",
      "metadata": {
        "id": "ZXcG6wIAM3r2"
      },
      "source": [
        "## Лабораторная работа 6"
      ]
    },
    {
      "cell_type": "markdown",
      "metadata": {
        "id": "JtWeY5FnM3r3"
      },
      "source": [
        "### Форматирование строк"
      ]
    },
    {
      "cell_type": "markdown",
      "metadata": {
        "id": "HH_ZHXvjM3r3"
      },
      "source": [
        "1\\. Загрузите данные из файла `recipes_sample.csv` (__ЛР2__) в виде `pd.DataFrame` `recipes` При помощи форматирования строк выведите информацию об id рецепта и времени выполнения 5 случайных рецептов в виде таблицы следующего вида:\n",
        "\n",
        "    \n",
        "    |      id      |  minutes  |\n",
        "    |--------------------------|\n",
        "    |    61178     |    65     |\n",
        "    |    202352    |    80     |\n",
        "    |    364322    |    150    |\n",
        "    |    26177     |    20     |\n",
        "    |    224785    |    35     |\n",
        "    \n",
        "Обратите внимание, что ширина столбцов заранее неизвестна и должна рассчитываться динамически, в зависимости от тех данных, которые были выбраны. "
      ]
    },
    {
      "cell_type": "code",
      "source": [
        "import pandas as pd\n",
        "recipes = pd.read_csv('/content/recipes_sample.csv')"
      ],
      "metadata": {
        "id": "QQf-oIsd_MpC"
      },
      "execution_count": 3,
      "outputs": []
    },
    {
      "cell_type": "code",
      "source": [
        "titles = ['id   ', ' minutes ']\n",
        "print('|{:>7}|{:>8}|'.format(*titles))\n",
        "print(f'-'*19)\n",
        "for j in range(5):\n",
        "    print(f\"|{recipes['id'][j]: ^ 7}|{recipes['minutes'][j]: ^ 9}|\")"
      ],
      "metadata": {
        "colab": {
          "base_uri": "https://localhost:8080/"
        },
        "id": "yIihhn1xD11T",
        "outputId": "ff60eafb-66ba-47cd-aa90-6ed7ecb703f8"
      },
      "execution_count": 50,
      "outputs": [
        {
          "output_type": "stream",
          "name": "stdout",
          "text": [
            "|  id   | minutes |\n",
            "-------------------\n",
            "| 44123 |    90   |\n",
            "| 67664 |    10   |\n",
            "| 38798 |    30   |\n",
            "| 35173 |    45   |\n",
            "| 84797 |    25   |\n"
          ]
        }
      ]
    },
    {
      "cell_type": "markdown",
      "metadata": {
        "id": "lqfAuzqKM3r3"
      },
      "source": [
        "2\\. Напишите функцию `show_info`, которая по данным о рецепте создает строку (в смысле объекта python) с описанием следующего вида:\n",
        "\n",
        "```\n",
        "\"Название Из Нескольких Слов\"\n",
        "\n",
        "1. Шаг 1\n",
        "2. Шаг 2\n",
        "----------\n",
        "Автор: contributor_id\n",
        "Среднее время приготовления: minutes минут\n",
        "```\n",
        "\n",
        "    \n",
        "Данные для создания строки получите из файлов `recipes_sample.csv` (__ЛР2__) и `steps_sample.xml` (__ЛР3__). \n",
        "Вызовите данную функцию для рецепта с id `170895` и выведите (через `print`) полученную строку на экран."
      ]
    },
    {
      "cell_type": "code",
      "source": [
        "from xml.etree import ElementTree as ET\n",
        "\n",
        "with open('steps_sample.xml', 'r') as f:\n",
        "    tree = ET.parse(f)\n",
        "\n",
        "steps_sample = {}\n",
        "for recipe in tree.findall('recipe'):\n",
        "    recipe_id = recipe.find('id').text\n",
        "    steps = [step.text for step in recipe.findall('step')]\n",
        "    steps_sample[recipe_id] = steps\n",
        "\n",
        "def show_info(recipe_id):\n",
        "    a = recipes[recipes.id == recipe_id]\n",
        "    inf = f'\"{a.name.values[0]}\"'.title()\n",
        "    inf += '\\n\\n'\n",
        "    steps = steps_sample.get(str(recipe_id), [])\n",
        "    for i, step in enumerate(steps, start=1):\n",
        "        inf += f'{i}. {step.capitalize()}\\n'\n",
        "    inf += '-'*10 + '\\n'\n",
        "    inf += f'Автор: {a.contributor_id.values[0]}\\n'\n",
        "    inf += f'Среднее время приготовления: {a.minutes.values[0]} минут'\n",
        "    \n",
        "    return inf\n",
        "\n",
        "print(show_info(170895))"
      ],
      "metadata": {
        "colab": {
          "base_uri": "https://localhost:8080/"
        },
        "id": "-vJBev_IJN0-",
        "outputId": "ef7c4ac1-dbdb-4e42-d761-dd38518a0387"
      },
      "execution_count": 64,
      "outputs": [
        {
          "output_type": "stream",
          "name": "stdout",
          "text": [
            "\"Leeks And Parsnips  Sauteed Or Creamed\"\n",
            "\n",
            "----------\n",
            "Автор: 8377\n",
            "Среднее время приготовления: 27 минут\n"
          ]
        }
      ]
    },
    {
      "cell_type": "markdown",
      "metadata": {
        "id": "jMi58lW5M3r4"
      },
      "source": [
        "## Работа с регулярными выражениями"
      ]
    },
    {
      "cell_type": "markdown",
      "metadata": {
        "id": "7sT2NcLFM3r4"
      },
      "source": [
        "3\\. Напишите регулярное выражение, которое ищет следующий паттерн в строке: число (1 цифра или более), затем пробел, затем слова: hour или hours или minute или minutes. Произведите поиск по данному регулярному выражению в каждом шаге рецепта с id 25082. Выведите на экран все непустые результаты, найденные по данному шаблону."
      ]
    },
    {
      "cell_type": "code",
      "source": [
        "from bs4 import BeautifulSoup as bs\n",
        "\n",
        "with open('steps_sample.xml', 'r') as f:\n",
        "    xml_content = f.read()\n",
        "    bs_content = bs(xml_content, 'xml')\n",
        "    \n",
        "for recipe in bs_content.find_all('recipe'):\n",
        "    if recipe.id.text == '25082':\n",
        "        steps_list = list(recipe.find_all('step'))\n",
        "        \n",
        "for step in steps_list:\n",
        "    if re.search(r'\\d+ hour|hours|\\d+ minute|minutes', str(step)):\n",
        "        print(step.get_text())"
      ],
      "metadata": {
        "colab": {
          "base_uri": "https://localhost:8080/"
        },
        "id": "RvVEVkPTKD10",
        "outputId": "a7ba562e-705a-4159-84dd-961855466944"
      },
      "execution_count": 73,
      "outputs": [
        {
          "output_type": "stream",
          "name": "stdout",
          "text": [
            "turn out onto a lightly floured board and knead for about 20 minutes , adding flour as nescessary to keep the dough from sticking to the board\n",
            "when it has been sufficiently kneaded , cover it with a damp cloth for about 10 minutes and wash and grease the bowl lightly\n",
            "let the dough rise until it springs back when you stick your finger in it , and it is about twice the size as it was before (this takes about 2 hours\n",
            "when the dough has risen twice , deflate it again and cover it with the damp cloth again for about 10 minutes , then divide it into and shape it into loaves , buns , etc\n",
            "let the shaped dough rise on a baking sheet or in a loaf-pan for about an hour maybe- it will rise a bit more in the oven\n",
            "bake at 400 for 20 minutes , and then turn the oven down to 350 and bake for 20-30 minutes longer , until the loaf is a lovely brown and sounds hollow when you thump it on the bottom\n"
          ]
        }
      ]
    },
    {
      "cell_type": "markdown",
      "metadata": {
        "id": "yg2VBJArM3r4"
      },
      "source": [
        "4\\. Напишите регулярное выражение, которое ищет шаблон вида \"this..., but\" _в начале строки_ . Между словом \"this\" и частью \", but\" может находиться произвольное число букв, цифр, знаков подчеркивания и пробелов. Никаких других символов вместо многоточия быть не может. Пробел между запятой и словом \"but\" может присутствовать или отсутствовать.\n",
        "\n",
        "Используя строковые методы `pd.Series`, выясните, для каких рецептов данный шаблон содержится в тексте описания. Выведите на экран количество таких рецептов и 3 примера подходящих описаний (текст описания должен быть виден на экране полностью)."
      ]
    },
    {
      "cell_type": "code",
      "source": [
        "pattern = re.compile(r'^this(?:[\\w]|[ ])*,[ ]?but')\n",
        "x = []\n",
        "o = 0\n",
        "for i in recipes.description.values:\n",
        "    result = pattern.match(str(i))\n",
        "    if result:\n",
        "        k+=1\n",
        "        x.append(i)\n",
        "\n",
        "for j in rn.sample(x, 3):\n",
        "    print(j, end=f'\\n{\"-\"*127}\\n')\n",
        "\n",
        "print(o)"
      ],
      "metadata": {
        "colab": {
          "base_uri": "https://localhost:8080/"
        },
        "id": "ByP5QnANLluY",
        "outputId": "db7232c9-fddd-4603-9718-26de1ee67f41"
      },
      "execution_count": 88,
      "outputs": [
        {
          "output_type": "stream",
          "name": "stdout",
          "text": [
            "this is pretty easy, but oh-so-fancy. great for a girl party.\n",
            "-------------------------------------------------------------------------------------------------------------------------------\n",
            "this is a great meal eaten the same day ,but even better the next day , if you can wait! add your favourite spices, but try it first as it is and i think that you will enjoy the 'vegetable' taste. good for freezing.\n",
            "-------------------------------------------------------------------------------------------------------------------------------\n",
            "this has a lot of ingredients, but is totally easy to make.  an excellent home cooked meal that tastes like chinese take-out!  you can also make these as appetizers (as they are served at the restaurants such as pf changs).\n",
            "-------------------------------------------------------------------------------------------------------------------------------\n",
            "0\n"
          ]
        }
      ]
    },
    {
      "cell_type": "markdown",
      "metadata": {
        "id": "PXfqXaYoM3r5"
      },
      "source": [
        "5\\. В текстах шагов рецептов обыкновенные дроби имеют вид \"a / b\". Используя регулярные выражения, уберите в тексте шагов рецепта с id 72367 пробелы до и после символа дроби. Выведите на экран шаги этого рецепта после их изменения."
      ]
    },
    {
      "cell_type": "markdown",
      "metadata": {
        "id": "HoAuotaqM3r5"
      },
      "source": [
        "### Сегментация текста"
      ]
    },
    {
      "cell_type": "markdown",
      "metadata": {
        "id": "Zv_HZYMUM3r5"
      },
      "source": [
        "6\\. Разбейте тексты шагов рецептов на слова при помощи пакета `nltk`. Посчитайте и выведите на экран кол-во уникальных слов среди всех рецептов. Словом называется любая последовательность алфавитных символов (для проверки можно воспользоваться `str.isalpha`). При подсчете количества уникальных слов не учитывайте регистр."
      ]
    },
    {
      "cell_type": "code",
      "source": [
        "import nltk\n",
        "from nltk.tokenize.toktok import ToktokTokenizer\n",
        "from nltk.tokenize import sent_tokenize\n",
        "import sys\n",
        "from nltk import pos_tag\n",
        "from nltk import word_tokenize\n",
        "import nltk.data"
      ],
      "metadata": {
        "id": "m0KVCK_SRiP6"
      },
      "execution_count": 104,
      "outputs": []
    },
    {
      "cell_type": "code",
      "source": [
        "nltk.download('unit')\n",
        "\n",
        "tt = ToktokTokenizer()\n",
        "unique = set()\n",
        "\n",
        "for key, value in steps_sample.items():\n",
        "    unique.update(tt.tokenize(i.lower()) for i in value if i.isalpha())\n",
        "\n",
        "alst = list(unique)"
      ],
      "metadata": {
        "colab": {
          "base_uri": "https://localhost:8080/"
        },
        "id": "yArvZNh0Sr4A",
        "outputId": "0db14221-446c-409e-cf86-6ed9736bd77e"
      },
      "execution_count": 112,
      "outputs": [
        {
          "output_type": "stream",
          "name": "stderr",
          "text": [
            "[nltk_data] Error loading unit: Package 'unit' not found in index\n"
          ]
        }
      ]
    },
    {
      "cell_type": "markdown",
      "metadata": {
        "id": "idg44orcM3r5"
      },
      "source": [
        "7\\. Разбейте описания рецептов из `recipes` на предложения при помощи пакета `nltk`. Найдите 5 самых длинных описаний (по количеству _предложений_) рецептов в датасете и выведите строки фрейма, соответствующие этим рецептами, в порядке убывания длины."
      ]
    },
    {
      "cell_type": "code",
      "source": [
        "from nltk.tokenize import sent_tokenize\n",
        "\n",
        "df = pd.read_csv(\"recipes_sample.csv\").astype(str)\n",
        "id_length = {}\n",
        "\n",
        "for index, row in df.iterrows():\n",
        "    id = str(row['id'])\n",
        "    description = row['description'].lower()\n",
        "    sentences = sent_tokenize(description)\n",
        "    length = len(sentences)\n",
        "    id_length[id] = length\n",
        "\n",
        "sorted_tuples = sorted(id_length.items(), key=lambda x: x[1], reverse=True)\n",
        "sorted_tuples[:5]"
      ],
      "metadata": {
        "colab": {
          "base_uri": "https://localhost:8080/"
        },
        "id": "F9nl9VwcTcVt",
        "outputId": "7f4b2d08-775a-4003-adca-ddc9c6deb1b2"
      },
      "execution_count": 115,
      "outputs": [
        {
          "output_type": "execute_result",
          "data": {
            "text/plain": [
              "[('334113', 76),\n",
              " ('287008', 27),\n",
              " ('328708', 24),\n",
              " ('205348', 23),\n",
              " ('316000', 23)]"
            ]
          },
          "metadata": {},
          "execution_count": 115
        }
      ]
    },
    {
      "cell_type": "markdown",
      "metadata": {
        "id": "hs8xBmywM3r5"
      },
      "source": [
        "8\\. Напишите функцию, которая для заданного предложения выводит информацию о частях речи слов, входящих в предложение, в следующем виде:\n",
        "```\n",
        "PRP   VBD   DT      NNS     CC   VBD      NNS        RB   \n",
        " I  omitted the raspberries and added strawberries instead\n",
        "``` \n",
        "Для определения части речи слова можно воспользоваться `nltk.pos_tag`.\n",
        "\n",
        "Проверьте работоспособность функции на названии рецепта с id 241106.\n",
        "\n",
        "Обратите внимание, что часть речи должна находиться ровно посередине над соотвествующим словом, а между самими словами должен быть ровно один пробел.\n"
      ]
    },
    {
      "cell_type": "code",
      "source": [
        "new_recipes = recipes.loc[recipes['id'] == 241106]\n",
        "name = new_recipes['name'].values[0]\n",
        "print(stag(name))"
      ],
      "metadata": {
        "colab": {
          "base_uri": "https://localhost:8080/"
        },
        "id": "QRsdo7_kUBvA",
        "outputId": "afb9a392-8c81-406c-b87b-bd6dc5db43bd"
      },
      "execution_count": 116,
      "outputs": [
        {
          "output_type": "stream",
          "name": "stdout",
          "text": [
            "    JJ     NNS    IN     NNS    VBP    JJ   CC   JJ    NNS  \n",
            "eggplant steaks with chickpeas feta cheese and black olives \n"
          ]
        }
      ]
    }
  ],
  "metadata": {
    "kernelspec": {
      "display_name": "Python 3 (ipykernel)",
      "language": "python",
      "name": "python3"
    },
    "language_info": {
      "codemirror_mode": {
        "name": "ipython",
        "version": 3
      },
      "file_extension": ".py",
      "mimetype": "text/x-python",
      "name": "python",
      "nbconvert_exporter": "python",
      "pygments_lexer": "ipython3",
      "version": "3.9.7"
    },
    "colab": {
      "provenance": []
    }
  },
  "nbformat": 4,
  "nbformat_minor": 0
}