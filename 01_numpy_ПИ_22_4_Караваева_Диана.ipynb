{
  "cells": [
    {
      "cell_type": "markdown",
      "metadata": {
        "id": "HtYohTep5m-s"
      },
      "source": [
        "# Numpy"
      ]
    },
    {
      "cell_type": "markdown",
      "metadata": {
        "id": "RbVHB1hx5m-t"
      },
      "source": [
        "Материалы:\n",
        "* Макрушин С.В. \"Лекция 1: Библиотека Numpy\"\n",
        "* https://numpy.org/doc/stable/user/index.html\n",
        "* https://numpy.org/doc/stable/reference/index.html"
      ]
    },
    {
      "cell_type": "markdown",
      "metadata": {
        "id": "LYr2OHYE5m-t"
      },
      "source": [
        "## Задачи для совместного разбора"
      ]
    },
    {
      "cell_type": "markdown",
      "metadata": {
        "id": "Qd6RYdNB5m-u"
      },
      "source": [
        "1. Сгенерировать двухмерный массив `arr` размерности (4, 7), состоящий из случайных действительных чисел, равномерно распределенных в диапазоне от 0 до 20. Нормализовать значения массива с помощью преобразования вида  $𝑎𝑥+𝑏$  так, что после нормализации максимальный элемент масcива будет равен 1.0, минимальный 0.0"
      ]
    },
    {
      "cell_type": "code",
      "source": [
        "import numpy as np"
      ],
      "metadata": {
        "id": "X9eDtODzjbBg"
      },
      "execution_count": null,
      "outputs": []
    },
    {
      "cell_type": "code",
      "source": [
        "np.random.seed(0)\n",
        "matrix = np.random.rand (4, 7)*20\n",
        "print(f'Матрица:\\n{matrix}')\n",
        "normalized_matrix = np.around(matrix-np.min(matrix))/(np.max(matrix)-np.min(matrix))\n",
        "print('Нормализованная матрица:\\n',normalized_matrix)"
      ],
      "metadata": {
        "colab": {
          "base_uri": "https://localhost:8080/"
        },
        "id": "DGHF-PcLh7qv",
        "outputId": "0aaf0060-0ee8-4e13-c08f-8ed99d6345c2"
      },
      "execution_count": null,
      "outputs": [
        {
          "output_type": "stream",
          "name": "stdout",
          "text": [
            "Матрица:\n",
            "[[10.97627008 14.30378733 12.05526752 10.89766366  8.47309599 12.91788226\n",
            "   8.75174423]\n",
            " [17.83546002 19.27325521  7.66883038 15.83450076 10.5778984  11.36089122\n",
            "  18.51193277]\n",
            " [ 1.42072116  1.74258599  0.40436795 16.65239691 15.56313502 17.40024296\n",
            "  19.57236684]\n",
            " [15.98317128  9.22958725 15.61058353  2.36548852 12.79842043  2.86706575\n",
            "  18.89337834]]\n",
            "Нормализованная матрица:\n",
            " [[0.57387315 0.73038402 0.62604344 0.52170287 0.41736229 0.67821373\n",
            "  0.41736229]\n",
            " [0.88689488 0.99123545 0.36519201 0.7825543  0.52170287 0.57387315\n",
            "  0.93906516]\n",
            " [0.05217029 0.05217029 0.         0.83472459 0.7825543  0.88689488\n",
            "  0.99123545]\n",
            " [0.83472459 0.46953258 0.7825543  0.10434057 0.62604344 0.10434057\n",
            "  0.93906516]]\n"
          ]
        }
      ]
    },
    {
      "cell_type": "markdown",
      "metadata": {
        "id": "Tl1myShA5m-u"
      },
      "source": [
        "2. Создать матрицу 8 на 10 из случайных целых (используя модуль `numpy.random`) чисел из диапозона от 0 до 10 и найти в ней строку (ее индекс и вывести саму строку), в которой сумма значений минимальна."
      ]
    },
    {
      "cell_type": "code",
      "source": [
        "matrix = np.random.randint(0, 10, (8, 10))\n",
        "print('Матрица:\\n', matrix)\n",
        "matrix_2 = matrix[np.argmin(np.sum(matrix, axis=1))]\n",
        "print('Строка матрицы с наименьшей суммой:', matrix_2)\n",
        "matrix_2 = sum(matrix[0])\n",
        "for i in range(len(matrix)): \n",
        "  if sum(matrix[i]) < matrix_2:\n",
        "    matrix_2 = sum(matrix[i])\n",
        "    index = i\n",
        "print(f'Индекс строки: {index}')\n",
        "print(f'Сумма элементор строки равна: {matrix_2}')"
      ],
      "metadata": {
        "colab": {
          "base_uri": "https://localhost:8080/"
        },
        "id": "DORmT1ztMgR3",
        "outputId": "8b5af4ae-98e3-4b28-f751-694c81034def"
      },
      "execution_count": null,
      "outputs": [
        {
          "output_type": "stream",
          "name": "stdout",
          "text": [
            "Матрица:\n",
            " [[1 4 7 8 7 7 9 9 0 6]\n",
            " [3 7 2 6 3 5 8 9 5 0]\n",
            " [6 9 1 4 7 5 2 6 4 7]\n",
            " [3 6 7 0 6 4 2 3 2 0]\n",
            " [9 5 8 1 0 9 5 9 2 1]\n",
            " [3 0 6 0 7 9 3 8 4 4]\n",
            " [5 1 6 8 6 1 4 4 9 8]\n",
            " [6 2 3 8 0 5 8 7 5 6]]\n",
            "Строка матрицы с наименьшей суммой: [3 6 7 0 6 4 2 3 2 0]\n",
            "Индекс строки: 3\n",
            "Сумма элементор строки равна: 33\n"
          ]
        }
      ]
    },
    {
      "cell_type": "markdown",
      "metadata": {
        "id": "lKL_xCPv5m-u"
      },
      "source": [
        "3. Найти евклидово расстояние между двумя одномерными векторами одинаковой размерности."
      ]
    },
    {
      "cell_type": "code",
      "source": [
        "dot_1 = np.array((0,0,0))\n",
        "dot_2 = np.array((3,3,3))\n",
        "evklidovo_distance = np.sqrt(sum(pow(a-b, 2) for a, b in zip(dot_1, dot_2)))\n",
        "print(evklidovo_distance)"
      ],
      "metadata": {
        "colab": {
          "base_uri": "https://localhost:8080/"
        },
        "id": "dY9Feric8wVF",
        "outputId": "a027b47d-717b-4243-e61c-83414fed7dd4"
      },
      "execution_count": null,
      "outputs": [
        {
          "output_type": "stream",
          "name": "stdout",
          "text": [
            "5.196152422706632\n"
          ]
        }
      ]
    },
    {
      "cell_type": "markdown",
      "metadata": {
        "id": "lKGJe-RY5m-v"
      },
      "source": [
        "## Лабораторная работа №1"
      ]
    },
    {
      "cell_type": "markdown",
      "metadata": {
        "id": "85ur36Xz5m-v"
      },
      "source": [
        "Замечание: при решении данных задач не подразумевается использования циклов или генераторов Python, если в задании не сказано обратного. Решение должно опираться на использования функционала библиотеки `numpy`."
      ]
    },
    {
      "cell_type": "markdown",
      "metadata": {
        "id": "biD7VxFi5m-v"
      },
      "source": [
        "1. Файл `minutes_n_ingredients.csv` содержит информацию об идентификаторе рецепта, времени его выполнения в минутах и количестве необходимых ингредиентов. Считайте данные из этого файла в виде массива `numpy` типа `int32`, используя `np.loadtxt`. Выведите на экран первые 5 строк массива."
      ]
    },
    {
      "cell_type": "markdown",
      "source": [],
      "metadata": {
        "id": "VgX88ledqKxG"
      }
    },
    {
      "cell_type": "code",
      "source": [
        "import numpy as np\n",
        "ingredients= np.loadtxt('/content/minutes_n_ingredients.csv',delimiter = ',', dtype = 'int32', skiprows = 1) # skiprows аргумент, который определяет, какие строки в файле csv используются\n",
        "print(ingredients[:5])"
      ],
      "metadata": {
        "colab": {
          "base_uri": "https://localhost:8080/"
        },
        "id": "Erppg3invkFB",
        "outputId": "47d33e55-9e82-4921-8195-ba158081e2ff"
      },
      "execution_count": null,
      "outputs": [
        {
          "output_type": "stream",
          "name": "stdout",
          "text": [
            "[[127244     60     16]\n",
            " [ 23891     25      7]\n",
            " [ 94746     10      6]\n",
            " [ 67660      5      6]\n",
            " [157911     60     14]]\n"
          ]
        }
      ]
    },
    {
      "cell_type": "markdown",
      "metadata": {
        "id": "1uoXDgf75m-v"
      },
      "source": [
        "2. Вычислите среднее значение, минимум, максимум и медиану по каждому из столбцов, кроме первого."
      ]
    },
    {
      "cell_type": "code",
      "source": [
        "import pandas as pd\n",
        "recipe = pd.read_csv(\"/content/minutes_n_ingredients.csv\")\n",
        "recipe.describe()"
      ],
      "metadata": {
        "colab": {
          "base_uri": "https://localhost:8080/",
          "height": 300
        },
        "id": "X2NZ7nFSxsG-",
        "outputId": "58fb8f09-bc1a-4995-bc79-469289308459"
      },
      "execution_count": null,
      "outputs": [
        {
          "output_type": "execute_result",
          "data": {
            "text/plain": [
              "                  id       minutes  n_ingredients\n",
              "count  100000.000000  1.000000e+05  100000.000000\n",
              "mean   222064.323910  2.160100e+04       9.055280\n",
              "std    141119.154855  6.790939e+06       3.737278\n",
              "min        38.000000  0.000000e+00       1.000000\n",
              "25%    100017.750000  2.000000e+01       6.000000\n",
              "50%    207193.500000  4.000000e+01       9.000000\n",
              "75%    333810.500000  6.500000e+01      11.000000\n",
              "max    537671.000000  2.147484e+09      39.000000"
            ],
            "text/html": [
              "\n",
              "  <div id=\"df-4f0dcdf7-788b-4500-b10d-56f958933f05\">\n",
              "    <div class=\"colab-df-container\">\n",
              "      <div>\n",
              "<style scoped>\n",
              "    .dataframe tbody tr th:only-of-type {\n",
              "        vertical-align: middle;\n",
              "    }\n",
              "\n",
              "    .dataframe tbody tr th {\n",
              "        vertical-align: top;\n",
              "    }\n",
              "\n",
              "    .dataframe thead th {\n",
              "        text-align: right;\n",
              "    }\n",
              "</style>\n",
              "<table border=\"1\" class=\"dataframe\">\n",
              "  <thead>\n",
              "    <tr style=\"text-align: right;\">\n",
              "      <th></th>\n",
              "      <th>id</th>\n",
              "      <th>minutes</th>\n",
              "      <th>n_ingredients</th>\n",
              "    </tr>\n",
              "  </thead>\n",
              "  <tbody>\n",
              "    <tr>\n",
              "      <th>count</th>\n",
              "      <td>100000.000000</td>\n",
              "      <td>1.000000e+05</td>\n",
              "      <td>100000.000000</td>\n",
              "    </tr>\n",
              "    <tr>\n",
              "      <th>mean</th>\n",
              "      <td>222064.323910</td>\n",
              "      <td>2.160100e+04</td>\n",
              "      <td>9.055280</td>\n",
              "    </tr>\n",
              "    <tr>\n",
              "      <th>std</th>\n",
              "      <td>141119.154855</td>\n",
              "      <td>6.790939e+06</td>\n",
              "      <td>3.737278</td>\n",
              "    </tr>\n",
              "    <tr>\n",
              "      <th>min</th>\n",
              "      <td>38.000000</td>\n",
              "      <td>0.000000e+00</td>\n",
              "      <td>1.000000</td>\n",
              "    </tr>\n",
              "    <tr>\n",
              "      <th>25%</th>\n",
              "      <td>100017.750000</td>\n",
              "      <td>2.000000e+01</td>\n",
              "      <td>6.000000</td>\n",
              "    </tr>\n",
              "    <tr>\n",
              "      <th>50%</th>\n",
              "      <td>207193.500000</td>\n",
              "      <td>4.000000e+01</td>\n",
              "      <td>9.000000</td>\n",
              "    </tr>\n",
              "    <tr>\n",
              "      <th>75%</th>\n",
              "      <td>333810.500000</td>\n",
              "      <td>6.500000e+01</td>\n",
              "      <td>11.000000</td>\n",
              "    </tr>\n",
              "    <tr>\n",
              "      <th>max</th>\n",
              "      <td>537671.000000</td>\n",
              "      <td>2.147484e+09</td>\n",
              "      <td>39.000000</td>\n",
              "    </tr>\n",
              "  </tbody>\n",
              "</table>\n",
              "</div>\n",
              "      <button class=\"colab-df-convert\" onclick=\"convertToInteractive('df-4f0dcdf7-788b-4500-b10d-56f958933f05')\"\n",
              "              title=\"Convert this dataframe to an interactive table.\"\n",
              "              style=\"display:none;\">\n",
              "        \n",
              "  <svg xmlns=\"http://www.w3.org/2000/svg\" height=\"24px\"viewBox=\"0 0 24 24\"\n",
              "       width=\"24px\">\n",
              "    <path d=\"M0 0h24v24H0V0z\" fill=\"none\"/>\n",
              "    <path d=\"M18.56 5.44l.94 2.06.94-2.06 2.06-.94-2.06-.94-.94-2.06-.94 2.06-2.06.94zm-11 1L8.5 8.5l.94-2.06 2.06-.94-2.06-.94L8.5 2.5l-.94 2.06-2.06.94zm10 10l.94 2.06.94-2.06 2.06-.94-2.06-.94-.94-2.06-.94 2.06-2.06.94z\"/><path d=\"M17.41 7.96l-1.37-1.37c-.4-.4-.92-.59-1.43-.59-.52 0-1.04.2-1.43.59L10.3 9.45l-7.72 7.72c-.78.78-.78 2.05 0 2.83L4 21.41c.39.39.9.59 1.41.59.51 0 1.02-.2 1.41-.59l7.78-7.78 2.81-2.81c.8-.78.8-2.07 0-2.86zM5.41 20L4 18.59l7.72-7.72 1.47 1.35L5.41 20z\"/>\n",
              "  </svg>\n",
              "      </button>\n",
              "      \n",
              "  <style>\n",
              "    .colab-df-container {\n",
              "      display:flex;\n",
              "      flex-wrap:wrap;\n",
              "      gap: 12px;\n",
              "    }\n",
              "\n",
              "    .colab-df-convert {\n",
              "      background-color: #E8F0FE;\n",
              "      border: none;\n",
              "      border-radius: 50%;\n",
              "      cursor: pointer;\n",
              "      display: none;\n",
              "      fill: #1967D2;\n",
              "      height: 32px;\n",
              "      padding: 0 0 0 0;\n",
              "      width: 32px;\n",
              "    }\n",
              "\n",
              "    .colab-df-convert:hover {\n",
              "      background-color: #E2EBFA;\n",
              "      box-shadow: 0px 1px 2px rgba(60, 64, 67, 0.3), 0px 1px 3px 1px rgba(60, 64, 67, 0.15);\n",
              "      fill: #174EA6;\n",
              "    }\n",
              "\n",
              "    [theme=dark] .colab-df-convert {\n",
              "      background-color: #3B4455;\n",
              "      fill: #D2E3FC;\n",
              "    }\n",
              "\n",
              "    [theme=dark] .colab-df-convert:hover {\n",
              "      background-color: #434B5C;\n",
              "      box-shadow: 0px 1px 3px 1px rgba(0, 0, 0, 0.15);\n",
              "      filter: drop-shadow(0px 1px 2px rgba(0, 0, 0, 0.3));\n",
              "      fill: #FFFFFF;\n",
              "    }\n",
              "  </style>\n",
              "\n",
              "      <script>\n",
              "        const buttonEl =\n",
              "          document.querySelector('#df-4f0dcdf7-788b-4500-b10d-56f958933f05 button.colab-df-convert');\n",
              "        buttonEl.style.display =\n",
              "          google.colab.kernel.accessAllowed ? 'block' : 'none';\n",
              "\n",
              "        async function convertToInteractive(key) {\n",
              "          const element = document.querySelector('#df-4f0dcdf7-788b-4500-b10d-56f958933f05');\n",
              "          const dataTable =\n",
              "            await google.colab.kernel.invokeFunction('convertToInteractive',\n",
              "                                                     [key], {});\n",
              "          if (!dataTable) return;\n",
              "\n",
              "          const docLinkHtml = 'Like what you see? Visit the ' +\n",
              "            '<a target=\"_blank\" href=https://colab.research.google.com/notebooks/data_table.ipynb>data table notebook</a>'\n",
              "            + ' to learn more about interactive tables.';\n",
              "          element.innerHTML = '';\n",
              "          dataTable['output_type'] = 'display_data';\n",
              "          await google.colab.output.renderOutput(dataTable, element);\n",
              "          const docLink = document.createElement('div');\n",
              "          docLink.innerHTML = docLinkHtml;\n",
              "          element.appendChild(docLink);\n",
              "        }\n",
              "      </script>\n",
              "    </div>\n",
              "  </div>\n",
              "  "
            ]
          },
          "metadata": {},
          "execution_count": 3
        }
      ]
    },
    {
      "cell_type": "markdown",
      "metadata": {
        "id": "DkwIPtHz5m-v"
      },
      "source": [
        "3. Ограничьте сверху значения продолжительности выполнения рецепта значением квантиля $q_{0.75}$. "
      ]
    },
    {
      "cell_type": "code",
      "source": [
        "recipe_time = ingredients[:,1]\n",
        "print('Значение квантеля:', np.quantile(recipe_time , 0.75))\n",
        "print('\\n',ingredients[ingredients[:,1] <= np.quantile(recipe_time , 0.75)])"
      ],
      "metadata": {
        "colab": {
          "base_uri": "https://localhost:8080/"
        },
        "id": "F3xykHIH1Sex",
        "outputId": "435f33f6-bb12-42d6-ecf8-6fb05287e948"
      },
      "execution_count": null,
      "outputs": [
        {
          "output_type": "stream",
          "name": "stdout",
          "text": [
            "Значение квантеля: 65.0\n",
            "\n",
            " [[127244     60     16]\n",
            " [ 23891     25      7]\n",
            " [ 94746     10      6]\n",
            " ...\n",
            " [ 43407     35      7]\n",
            " [498432     65     15]\n",
            " [370915      5      4]]\n"
          ]
        }
      ]
    },
    {
      "cell_type": "markdown",
      "source": [
        "4. Посчитайте для скольких рецептов указана продолжительность равная 0. Замените значение этих столбцов на 1."
      ],
      "metadata": {
        "id": "tahypYGf6ra-"
      }
    },
    {
      "cell_type": "code",
      "source": [
        "print('Продолжительность равная 0:',np.sum(ingredients==0))\n",
        "ingredients[ingredients==0]=1"
      ],
      "metadata": {
        "colab": {
          "base_uri": "https://localhost:8080/"
        },
        "id": "wFjRaFjp69lE",
        "outputId": "e703e030-fdb1-46cc-b504-7750a51962c9"
      },
      "execution_count": null,
      "outputs": [
        {
          "output_type": "stream",
          "name": "stdout",
          "text": [
            "Продолжительность равная 0: 479\n"
          ]
        }
      ]
    },
    {
      "cell_type": "markdown",
      "metadata": {
        "id": "zYIN_cG15m-w"
      },
      "source": [
        "5. Посчитайте, сколько уникальных рецептов находится в датасете."
      ]
    },
    {
      "cell_type": "code",
      "source": [
        "len(np.unique(ingredients[:,0]))"
      ],
      "metadata": {
        "colab": {
          "base_uri": "https://localhost:8080/"
        },
        "id": "HCY0DlGGSoM4",
        "outputId": "45894395-7cc4-494a-e26c-7d8c94aa933e"
      },
      "execution_count": null,
      "outputs": [
        {
          "output_type": "execute_result",
          "data": {
            "text/plain": [
              "100000"
            ]
          },
          "metadata": {},
          "execution_count": 6
        }
      ]
    },
    {
      "cell_type": "markdown",
      "metadata": {
        "id": "GL5yvHIJ5m-w"
      },
      "source": [
        "6. Сколько и каких различных значений кол-ва ингредиентов присутвует в рецептах из датасета?"
      ]
    },
    {
      "cell_type": "code",
      "source": [
        "unique = np.unique(ingredients[:,2])\n",
        "num = len(np.unique(ingredients[:,2]))\n",
        "print('Уникальные значения:', *unique, sep=',')\n",
        "print('Количество уникальных значений:', num)"
      ],
      "metadata": {
        "colab": {
          "base_uri": "https://localhost:8080/"
        },
        "id": "7OfBv9csv6AY",
        "outputId": "267796e5-16ea-4e6a-bbbd-281d471211af"
      },
      "execution_count": null,
      "outputs": [
        {
          "output_type": "stream",
          "name": "stdout",
          "text": [
            "Уникальные значения:,1,2,3,4,5,6,7,8,9,10,11,12,13,14,15,16,17,18,19,20,21,22,23,24,25,26,27,28,29,30,31,32,33,34,35,37,39\n",
            "Количество уникальных значений: 37\n"
          ]
        }
      ]
    },
    {
      "cell_type": "markdown",
      "metadata": {
        "id": "a4W9k4rY5m-w"
      },
      "source": [
        "7. Создайте версию массива, содержащую информацию только о рецептах, состоящих не более чем из 5 ингредиентов."
      ]
    },
    {
      "cell_type": "code",
      "source": [
        "array = ingredients[ingredients[:,2] <= 5]\n",
        "new_array = ingredients[ingredients[:,2] <= 5]\n",
        "print(new_array,'\\n\\n',ingredients)"
      ],
      "metadata": {
        "colab": {
          "base_uri": "https://localhost:8080/"
        },
        "id": "v3uHbSRjv9dc",
        "outputId": "3fbb73de-2c2f-49bf-ffc8-c953ab6625e2"
      },
      "execution_count": null,
      "outputs": [
        {
          "output_type": "stream",
          "name": "stdout",
          "text": [
            "[[446597     15      5]\n",
            " [204134      5      3]\n",
            " [ 25623      6      4]\n",
            " ...\n",
            " [ 52088     60      5]\n",
            " [128811     15      4]\n",
            " [370915      5      4]] \n",
            "\n",
            " [[127244     60     16]\n",
            " [ 23891     25      7]\n",
            " [ 94746     10      6]\n",
            " ...\n",
            " [498432     65     15]\n",
            " [370915      5      4]\n",
            " [ 81993    140     14]]\n"
          ]
        }
      ]
    },
    {
      "cell_type": "markdown",
      "metadata": {
        "id": "hRtiXRj85m-w"
      },
      "source": [
        "8. Для каждого рецепта посчитайте, сколько в среднем ингредиентов приходится на одну минуту рецепта. Найдите максимальное значение этой величины для всего датасета"
      ]
    },
    {
      "cell_type": "code",
      "source": [
        "medium_ingredients = ingredients[:,2]/ingredients[:,1]\n",
        "print('Максимальное значение величины:', max(medium_ingredients))"
      ],
      "metadata": {
        "colab": {
          "base_uri": "https://localhost:8080/"
        },
        "id": "wyf78UpHwCE8",
        "outputId": "db052be7-f200-435c-97e7-7d6b6b0ac1aa"
      },
      "execution_count": null,
      "outputs": [
        {
          "output_type": "stream",
          "name": "stdout",
          "text": [
            "Максимальное значение величины: 24.0\n"
          ]
        }
      ]
    },
    {
      "cell_type": "markdown",
      "metadata": {
        "id": "RIJRZGqF5m-w"
      },
      "source": [
        "9. Вычислите среднее количество ингредиентов для топ-100 рецептов с наибольшей продолжительностью"
      ]
    },
    {
      "cell_type": "code",
      "source": [
        "top_ingredients = ingredients[ingredients[:,1].argsort()[::-1]]\n",
        "np.average(top_ingredients[:100,2])"
      ],
      "metadata": {
        "colab": {
          "base_uri": "https://localhost:8080/"
        },
        "id": "K3Y9IAGfwWwm",
        "outputId": "3fa09b61-a6da-4e08-aec4-fedd9fcaebe6"
      },
      "execution_count": null,
      "outputs": [
        {
          "output_type": "execute_result",
          "data": {
            "text/plain": [
              "6.61"
            ]
          },
          "metadata": {},
          "execution_count": 10
        }
      ]
    },
    {
      "cell_type": "markdown",
      "metadata": {
        "id": "HsB6bokE5m-w"
      },
      "source": [
        "10. Выберите случайным образом и выведите информацию о 10 различных рецептах"
      ]
    },
    {
      "cell_type": "code",
      "source": [
        "recipe = np.random.randint(ingredients.shape[0], size = 10)\n",
        "print(ingredients[recipe])"
      ],
      "metadata": {
        "colab": {
          "base_uri": "https://localhost:8080/"
        },
        "id": "xtH_g_h0wafY",
        "outputId": "8a89973b-6448-46b6-a88a-72c5ab896b2c"
      },
      "execution_count": null,
      "outputs": [
        {
          "output_type": "stream",
          "name": "stdout",
          "text": [
            "[[228072     15      6]\n",
            " [499924     10      4]\n",
            " [149519     40     12]\n",
            " [261013     45     15]\n",
            " [216721    100      7]\n",
            " [186139      7      6]\n",
            " [412384     40     10]\n",
            " [165151     40     10]\n",
            " [397867     80      4]\n",
            " [190919     60      8]]\n"
          ]
        }
      ]
    },
    {
      "cell_type": "markdown",
      "metadata": {
        "id": "AifVTvnD5m-w"
      },
      "source": [
        "11. Выведите процент рецептов, кол-во ингредиентов в которых меньше среднего."
      ]
    },
    {
      "cell_type": "code",
      "source": [
        "print('Процент рецептов, кол-во ингредиентов в которых меньше среднего:',((len(ingredients[ingredients[:,2]<(np.mean(ingredients[:,2]))]))/len(ingredients))*100)"
      ],
      "metadata": {
        "colab": {
          "base_uri": "https://localhost:8080/"
        },
        "id": "AE-amibtwbYI",
        "outputId": "d2e005a3-37f5-4b33-87da-d6dcbd93e745"
      },
      "execution_count": null,
      "outputs": [
        {
          "output_type": "stream",
          "name": "stdout",
          "text": [
            "Процент рецептов, кол-во ингредиентов в которых меньше среднего: 58.802\n"
          ]
        }
      ]
    },
    {
      "cell_type": "markdown",
      "metadata": {
        "id": "6OSI__Tl5m-x"
      },
      "source": [
        "12. Назовем \"простым\" такой рецепт, длительность выполнения которого не больше 20 минут и кол-во ингредиентов в котором не больше 5. Создайте версию датасета с дополнительным столбцом, значениями которого являются 1, если рецепт простой, и 0 в противном случае."
      ]
    },
    {
      "cell_type": "code",
      "source": [
        "recipe_new = (ingredients[:,1] <= 20) & (ingredients[:,2] <= 5), np.append(ingredients, np.full((len(ingredients),1),1).reshape(len(ingredients),1), axis=1)\n",
        "print(recipe_new)"
      ],
      "metadata": {
        "colab": {
          "base_uri": "https://localhost:8080/"
        },
        "id": "RO7zcWyhMuxC",
        "outputId": "c1e0d3e9-5f73-4ef1-d005-6a6141f6d45f"
      },
      "execution_count": null,
      "outputs": [
        {
          "output_type": "stream",
          "name": "stdout",
          "text": [
            "(array([False, False, False, ..., False,  True, False]), array([[127244,     60,     16,      1],\n",
            "       [ 23891,     25,      7,      1],\n",
            "       [ 94746,     10,      6,      1],\n",
            "       ...,\n",
            "       [498432,     65,     15,      1],\n",
            "       [370915,      5,      4,      1],\n",
            "       [ 81993,    140,     14,      1]]))\n"
          ]
        }
      ]
    },
    {
      "cell_type": "code",
      "source": [
        "simple_numbers=np.full((100000,1), 0)\n",
        "for i in range(len(array)):\n",
        "  if ingredients[i][1]<=20 and ingredients[i][2]<=5:\n",
        "    simple_numbers[i][0]=1\n",
        "\n",
        "simple_array=np.append(ingredients, simple_numbers, axis=1)\n",
        "simple_array"
      ],
      "metadata": {
        "colab": {
          "base_uri": "https://localhost:8080/"
        },
        "id": "nsMRlw68aCws",
        "outputId": "99079087-f303-47ac-de0e-e2f47bcee680"
      },
      "execution_count": null,
      "outputs": [
        {
          "output_type": "execute_result",
          "data": {
            "text/plain": [
              "array([[127244,     60,     16,      0],\n",
              "       [ 23891,     25,      7,      0],\n",
              "       [ 94746,     10,      6,      0],\n",
              "       ...,\n",
              "       [498432,     65,     15,      0],\n",
              "       [370915,      5,      4,      0],\n",
              "       [ 81993,    140,     14,      0]])"
            ]
          },
          "metadata": {},
          "execution_count": 45
        }
      ]
    },
    {
      "cell_type": "markdown",
      "metadata": {
        "id": "EwisZyk65m-x"
      },
      "source": [
        "13. Выведите процент \"простых\" рецептов в датасете"
      ]
    },
    {
      "cell_type": "code",
      "source": [
        "print((100*len(simple_array[simple_array[:,3] == 1]))/len(ingredients))"
      ],
      "metadata": {
        "colab": {
          "base_uri": "https://localhost:8080/",
          "height": 165
        },
        "id": "I2yefl6q2bX-",
        "outputId": "e286835b-2056-4a4c-9eb8-b1f1d8544bd3"
      },
      "execution_count": null,
      "outputs": [
        {
          "output_type": "error",
          "ename": "NameError",
          "evalue": "ignored",
          "traceback": [
            "\u001b[0;31m---------------------------------------------------------------------------\u001b[0m",
            "\u001b[0;31mNameError\u001b[0m                                 Traceback (most recent call last)",
            "\u001b[0;32m<ipython-input-6-16982bc6bb54>\u001b[0m in \u001b[0;36m<cell line: 1>\u001b[0;34m()\u001b[0m\n\u001b[0;32m----> 1\u001b[0;31m \u001b[0mprint\u001b[0m\u001b[0;34m(\u001b[0m\u001b[0;34m(\u001b[0m\u001b[0;36m100\u001b[0m\u001b[0;34m*\u001b[0m\u001b[0mlen\u001b[0m\u001b[0;34m(\u001b[0m\u001b[0mrecipe_new\u001b[0m\u001b[0;34m[\u001b[0m\u001b[0mrecipe_new\u001b[0m\u001b[0;34m[\u001b[0m\u001b[0;34m:\u001b[0m\u001b[0;34m,\u001b[0m\u001b[0;36m3\u001b[0m\u001b[0;34m]\u001b[0m \u001b[0;34m==\u001b[0m \u001b[0;36m1\u001b[0m\u001b[0;34m]\u001b[0m\u001b[0;34m)\u001b[0m\u001b[0;34m)\u001b[0m\u001b[0;34m/\u001b[0m\u001b[0mlen\u001b[0m\u001b[0;34m(\u001b[0m\u001b[0mingredients\u001b[0m\u001b[0;34m)\u001b[0m\u001b[0;34m)\u001b[0m\u001b[0;34m\u001b[0m\u001b[0;34m\u001b[0m\u001b[0m\n\u001b[0m",
            "\u001b[0;31mNameError\u001b[0m: name 'recipe_new' is not defined"
          ]
        }
      ]
    },
    {
      "cell_type": "markdown",
      "metadata": {
        "id": "UQHqHc4-5m-x"
      },
      "source": [
        "14. Разделим рецепты на группы по следующему правилу. Назовем рецепты короткими, если их продолжительность составляет менее 10 минут; стандартными, если их продолжительность составляет более 10, но менее 20 минут; и длинными, если их продолжительность составляет не менее 20 минут. Создайте трехмерный массив, где нулевая ось отвечает за номер группы (короткий, стандартный или длинный рецепт), первая ось - за сам рецепт и вторая ось - за характеристики рецепта. Выберите максимальное количество рецептов из каждой группы таким образом, чтобы было возможно сформировать трехмерный массив. Выведите форму полученного массива."
      ]
    },
    {
      "cell_type": "code",
      "source": [
        "short_recipe = ingredients[ingredients[:,1]<10]\n",
        "standart_recipe = ingredients[(ingredients[:,1]>=10) & (ingredients[:,1]<20)]\n",
        "long_recipe = ingredients[ingredients[:,1]>=20]\n",
        "max = min(len(short_recipe), len(standart_recipe), len(long_recipe))\n",
        "np.array([short_recipe[:max-1], standart_recipe[:max-1], long_recipe[:max-1]])"
      ],
      "metadata": {
        "colab": {
          "base_uri": "https://localhost:8080/"
        },
        "id": "N8PZKURMO9tV",
        "outputId": "6057dd1c-4b72-4d44-fc6e-98f979894641"
      },
      "execution_count": null,
      "outputs": [
        {
          "output_type": "execute_result",
          "data": {
            "text/plain": [
              "array([[[ 67660,      5,      6],\n",
              "        [366174,      7,      9],\n",
              "        [204134,      5,      3],\n",
              "        ...,\n",
              "        [  2778,      1,     11],\n",
              "        [420725,      5,      3],\n",
              "        [  4747,      1,      9]],\n",
              "\n",
              "       [[ 94746,     10,      6],\n",
              "        [ 33941,     18,      9],\n",
              "        [446597,     15,      5],\n",
              "        ...,\n",
              "        [107094,     10,      4],\n",
              "        [  9831,     15,      7],\n",
              "        [335859,     12,     14]],\n",
              "\n",
              "       [[127244,     60,     16],\n",
              "        [ 23891,     25,      7],\n",
              "        [157911,     60,     14],\n",
              "        ...,\n",
              "        [ 92137,     80,      9],\n",
              "        [168901,     25,      7],\n",
              "        [392339,     35,     13]]], dtype=int32)"
            ]
          },
          "metadata": {},
          "execution_count": 36
        }
      ]
    }
  ],
  "metadata": {
    "kernelspec": {
      "display_name": "Python 3",
      "language": "python",
      "name": "python3"
    },
    "language_info": {
      "codemirror_mode": {
        "name": "ipython",
        "version": 3
      },
      "file_extension": ".py",
      "mimetype": "text/x-python",
      "name": "python",
      "nbconvert_exporter": "python",
      "pygments_lexer": "ipython3",
      "version": "3.7.6"
    },
    "colab": {
      "provenance": []
    }
  },
  "nbformat": 4,
  "nbformat_minor": 0
}